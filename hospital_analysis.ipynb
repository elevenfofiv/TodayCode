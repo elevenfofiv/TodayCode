{
 "cells": [
  {
   "cell_type": "markdown",
   "source": [
    "1.1 필요한 라이브러리 불러오기"
   ],
   "metadata": {}
  },
  {
   "cell_type": "code",
   "execution_count": 1,
   "source": [
    "import pandas as pd\r\n",
    "import numpy as np\r\n",
    "import seaborn as sns"
   ],
   "outputs": [],
   "metadata": {}
  },
  {
   "cell_type": "markdown",
   "source": [],
   "metadata": {}
  }
 ],
 "metadata": {
  "orig_nbformat": 4,
  "language_info": {
   "name": "python",
   "version": "3.9.4",
   "mimetype": "text/x-python",
   "codemirror_mode": {
    "name": "ipython",
    "version": 3
   },
   "pygments_lexer": "ipython3",
   "nbconvert_exporter": "python",
   "file_extension": ".py"
  },
  "kernelspec": {
   "name": "python3",
   "display_name": "Python 3.9.4 64-bit ('my_env_39': conda)"
  },
  "interpreter": {
   "hash": "a9afbebe5ba3d1057f216f19777f1958bf244709a78630bab6e87a12aee6239f"
  }
 },
 "nbformat": 4,
 "nbformat_minor": 2
}